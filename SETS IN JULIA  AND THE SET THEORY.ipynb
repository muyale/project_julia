{
 "cells": [
  {
   "cell_type": "markdown",
   "id": "5028a7b7",
   "metadata": {},
   "source": [
    "# SETS IN JULIA "
   ]
  },
  {
   "cell_type": "code",
   "execution_count": null,
   "id": "8a9c857e",
   "metadata": {},
   "outputs": [],
   "source": [
    "\"\"\"Sets are Created using the Set Keyword . A set is a collected of elements ,In julia there are basic functionalities \n",
    "that can be found in Set theory.\"\"\"\n",
    "# Lets create a set of Skillsets for a datascience job\n",
    "DataScience = Set([\"Python\",\"R\",\"PowerBI\",\"Tableau\",\"Tensorflow\",\"Keras\",\"Pytorch\",\"Excel\",\"Statistics\"])"
   ]
  },
  {
   "cell_type": "code",
   "execution_count": 11,
   "id": "83bd732f",
   "metadata": {},
   "outputs": [
    {
     "data": {
      "text/plain": [
       "false"
      ]
     },
     "execution_count": 11,
     "metadata": {},
     "output_type": "execute_result"
    }
   ],
   "source": [
    "# To check if an element is in a set we use the \"in\" keyword,for example\n",
    "in(\"Java\",DataScience)"
   ]
  },
  {
   "cell_type": "code",
   "execution_count": 12,
   "id": "9204ea6f",
   "metadata": {},
   "outputs": [
    {
     "data": {
      "text/plain": [
       "true"
      ]
     },
     "execution_count": 12,
     "metadata": {},
     "output_type": "execute_result"
    }
   ],
   "source": [
    "in(\"Python\",DataScience)"
   ]
  },
  {
   "cell_type": "code",
   "execution_count": 14,
   "id": "4ad69def",
   "metadata": {},
   "outputs": [
    {
     "data": {
      "text/plain": [
       "Set{String} with 7 elements:\n",
       "  \"Anxiety\"\n",
       "  \"Loss of appetite\"\n",
       "  \"Losing Motivation\"\n",
       "  \"Outbursts\"\n",
       "  \"Isolation\"\n",
       "  \"Losing Focus\"\n",
       "  \"Insomnia\""
      ]
     },
     "execution_count": 14,
     "metadata": {},
     "output_type": "execute_result"
    }
   ],
   "source": [
    "# Lets create two sets for two clinical mental diagnosis Depression and Stress \n",
    "# Lets suppose that we are Psychologists or therapists and we are tasked with patients \n",
    "# Well create two sets for some common mental health problems\n",
    "Depression = Set([\"Isolation\",\"Rumination\",\"Suicide Idealiation\",\"Anger\",\"Insomnia\",\"Losing Motivation\",\"Sadness\"])\n",
    "Stress = Set([\"Loss of appetite\",\"Outbursts\",\"Isolation\",\"Losing Motivation\",\"Anxiety\",\"Losing Focus\",\"Insomnia\"])"
   ]
  },
  {
   "cell_type": "code",
   "execution_count": 16,
   "id": "935d3b88",
   "metadata": {},
   "outputs": [
    {
     "data": {
      "text/plain": [
       "Set{String} with 11 elements:\n",
       "  \"Anxiety\"\n",
       "  \"SuicideIdealiation\"\n",
       "  \"Sadness\"\n",
       "  \"Losing Motivation\"\n",
       "  \"Isolation\"\n",
       "  \"Outbursts\"\n",
       "  \"Rumination\"\n",
       "  \"Insomnia\"\n",
       "  \"Anger\"\n",
       "  \"Loss of appetite\"\n",
       "  \"Losing Focus\""
      ]
     },
     "execution_count": 16,
     "metadata": {},
     "output_type": "execute_result"
    }
   ],
   "source": [
    "# unions are all the elements in the two sets ,It combines them and returns them as a list \n",
    "# For example AUB returns all the elements of A and B\n",
    "# So in my case I will create a variable for the union of these sets \n",
    "Common_Signs = union(Depression,Stress)\n",
    "Common_Signs"
   ]
  },
  {
   "cell_type": "code",
   "execution_count": 17,
   "id": "d28271bf",
   "metadata": {},
   "outputs": [
    {
     "data": {
      "text/plain": [
       "Set{String} with 3 elements:\n",
       "  \"Losing Motivation\"\n",
       "  \"Isolation\"\n",
       "  \"Insomnia\""
      ]
     },
     "execution_count": 17,
     "metadata": {},
     "output_type": "execute_result"
    }
   ],
   "source": [
    "# intersections return all the elements that are exlusively in A and B \n",
    "Exclusive_Signs = intersect(Depression,Stress)"
   ]
  },
  {
   "cell_type": "code",
   "execution_count": 20,
   "id": "bbb0e1cb",
   "metadata": {},
   "outputs": [
    {
     "data": {
      "text/plain": [
       "Set{String} with 4 elements:\n",
       "  \"SuicideIdealiation\"\n",
       "  \"Sadness\"\n",
       "  \"Anger\"\n",
       "  \"Rumination\""
      ]
     },
     "execution_count": 20,
     "metadata": {},
     "output_type": "execute_result"
    }
   ],
   "source": [
    "# The set difference returns all the elements in a set that are not in  another set\n",
    "# For example A-B returns elements of A that are only in B and A\n",
    "Difference_A = setdiff(Depression,Stress)"
   ]
  },
  {
   "cell_type": "code",
   "execution_count": 22,
   "id": "840e376e",
   "metadata": {},
   "outputs": [
    {
     "data": {
      "text/plain": [
       "Set{String} with 8 elements:\n",
       "  \"SuicideIdealiation\"\n",
       "  \"Sadness\"\n",
       "  \"Anger\"\n",
       "  \"Losing Motivation\"\n",
       "  \"Isolation\"\n",
       "  \"Rumination\"\n",
       "  \"Insomnia\"\n",
       "  \"low energy\""
      ]
     },
     "execution_count": 22,
     "metadata": {},
     "output_type": "execute_result"
    }
   ],
   "source": [
    "# push adds an element to a set\n",
    "push!(Depression,\"low energy\")"
   ]
  },
  {
   "cell_type": "markdown",
   "id": "79643695",
   "metadata": {},
   "source": [
    "#  Using Sets and Julia functions to create a diagnosis tool\n",
    "In this section I will use julia functions to create a diagnosis tool for mental health purpose"
   ]
  },
  {
   "cell_type": "code",
   "execution_count": 92,
   "id": "014e4062",
   "metadata": {},
   "outputs": [
    {
     "data": {
      "text/plain": [
       "check_diagnosis (generic function with 1 method)"
      ]
     },
     "execution_count": 92,
     "metadata": {},
     "output_type": "execute_result"
    }
   ],
   "source": [
    "# Suppose I had issues with my mental health and before I reached a therapist ,I wanted to know what it could be \n",
    "# For the tips ,I excerpted from \"Why Has Nobody Told Me by Dr .Julie Smith\"\n",
    "function check_diagnosis(symptom)\n",
    "    Depression = Set([\"Isolation\",\"Rumination\",\"SuicideIdealiation\",\"Anger\",\"Mild Insomnia\",\"Losing Motivation\",\"Sadness\"])\n",
    "    Stress = Set([\"Loss of appetite\",\"Outbursts\",\"Low Energy\",\"Losing Motivation\",\"Anxiety\",\"Losing Focus\",\"Insomnia\"])\n",
    "    if  in(symptom,Depression)== true \n",
    "        println(\"You have depression try reaching out to a proffesional or family\")\n",
    "        println(\"Depression is low mood and its normal for all human beings ,You are never alone\")\n",
    "        println(\"When it comes to tackling low mood, we have to focus on making good decisions, not perfect decisions\\n. A good decision is one that moves you in the direction you want to go.\\n It doesn’t have to catapult you there.\\n But something we must do is keep making decisions, however small.\\n In any survival situation, making decisions and moving is essential.\\n If you find yourself in deep water in the dark, with no way of telling which direction leads to safety, what you do know is that if you don’t choose a direction and start moving,you wont be on the surface \\n doing anything positive, however small, is a healthy step inthe direction you want to go.\")\n",
    "    elseif in(symptom ,Stress ) == true\n",
    "        println(\"You have Stress,and its okay ,We can help\")\n",
    "        println(\"Despite how stressful it is, try your best’ to \\n‘When you feel the signs of stress channel that energy and enhanced focus to do your best.’\\n There is also evidence that doing this\\n helps us to feel less exhausted by the stress\")\n",
    "    elseif  intersect(Depression,Stress)==symptom\n",
    "        print(\"State another symptom\")\n",
    "    else \n",
    "        print(\"You are good ,but we are here for you.\")\n",
    "    end\n",
    "end"
   ]
  },
  {
   "cell_type": "code",
   "execution_count": 93,
   "id": "79520865",
   "metadata": {},
   "outputs": [
    {
     "name": "stdout",
     "output_type": "stream",
     "text": [
      "You have depression try reaching out to a proffesional or family\n",
      "Depression is low mood and its normal for all human beings ,You are never alone\n",
      "When it comes to tackling low mood, we have to focus on making good decisions, not perfect decisions\n",
      ". A good decision is one that moves you in the direction you want to go.\n",
      " It doesn’t have to catapult you there.\n",
      " But something we must do is keep making decisions, however small.\n",
      " In any survival situation, making decisions and moving is essential.\n",
      " If you find yourself in deep water in the dark, with no way of telling which direction leads to safety, what you do know is that if you don’t choose a direction and start moving,you wont be on the surface \n",
      " doing anything positive, however small, is a healthy step inthe direction you want to go.\n"
     ]
    }
   ],
   "source": [
    "check_diagnosis(\"Isolation\")"
   ]
  },
  {
   "cell_type": "code",
   "execution_count": 94,
   "id": "c542e8ad",
   "metadata": {},
   "outputs": [
    {
     "name": "stdout",
     "output_type": "stream",
     "text": [
      "You have Stress,and its okay ,We can help\n",
      "Despite how stressful it is, try your best’ to \n",
      "‘When you feel the signs of stress channel that energy and enhanced focus to do your best.’\n",
      " There is also evidence that doing this\n",
      " helps us to feel less exhausted by the stress\n"
     ]
    }
   ],
   "source": [
    "check_diagnosis(\"Outbursts\")"
   ]
  },
  {
   "cell_type": "code",
   "execution_count": 95,
   "id": "8f536360",
   "metadata": {},
   "outputs": [
    {
     "name": "stdout",
     "output_type": "stream",
     "text": [
      "You have depression try reaching out to a proffesional or family\n",
      "Depression is low mood and its normal for all human beings ,You are never alone\n",
      "When it comes to tackling low mood, we have to focus on making good decisions, not perfect decisions\n",
      ". A good decision is one that moves you in the direction you want to go.\n",
      " It doesn’t have to catapult you there.\n",
      " But something we must do is keep making decisions, however small.\n",
      " In any survival situation, making decisions and moving is essential.\n",
      " If you find yourself in deep water in the dark, with no way of telling which direction leads to safety, what you do know is that if you don’t choose a direction and start moving,you wont be on the surface \n",
      " doing anything positive, however small, is a healthy step inthe direction you want to go.\n"
     ]
    }
   ],
   "source": [
    "check_diagnosis(\"Losing Motivation\")"
   ]
  },
  {
   "cell_type": "code",
   "execution_count": null,
   "id": "627b6792",
   "metadata": {},
   "outputs": [],
   "source": []
  },
  {
   "cell_type": "code",
   "execution_count": null,
   "id": "7af64275",
   "metadata": {},
   "outputs": [],
   "source": []
  }
 ],
 "metadata": {
  "kernelspec": {
   "display_name": "Julia 1.8.5",
   "language": "julia",
   "name": "julia-1.8"
  },
  "language_info": {
   "file_extension": ".jl",
   "mimetype": "application/julia",
   "name": "julia",
   "version": "1.8.5"
  }
 },
 "nbformat": 4,
 "nbformat_minor": 5
}
