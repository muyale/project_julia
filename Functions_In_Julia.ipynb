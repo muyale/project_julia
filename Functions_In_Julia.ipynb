{
 "cells": [
  {
   "cell_type": "markdown",
   "id": "2a696a5e",
   "metadata": {},
   "source": [
    "Suppose you are given a task to calculate weight for 100 people ,or for instance you are to convert the data into cm. Functions\n",
    "make it easier ,instead of rewrite the code over and over again ,functions can save us from that"
   ]
  },
  {
   "cell_type": "code",
   "execution_count": 1,
   "id": "7bd4e3e2",
   "metadata": {},
   "outputs": [
    {
     "data": {
      "text/plain": [
       "f (generic function with 1 method)"
      ]
     },
     "execution_count": 1,
     "metadata": {},
     "output_type": "execute_result"
    }
   ],
   "source": [
    "# Simple function\n",
    "f(x) = x -3"
   ]
  },
  {
   "cell_type": "code",
   "execution_count": 4,
   "id": "35e0ad62",
   "metadata": {},
   "outputs": [
    {
     "data": {
      "text/plain": [
       "1×4 Matrix{Int64}:\n",
       " 1  3  3  4"
      ]
     },
     "execution_count": 4,
     "metadata": {},
     "output_type": "execute_result"
    }
   ],
   "source": [
    "# \n",
    "a = [1 3 3 4]"
   ]
  },
  {
   "cell_type": "code",
   "execution_count": 6,
   "id": "ff80f4c4",
   "metadata": {},
   "outputs": [
    {
     "data": {
      "text/plain": [
       "-2"
      ]
     },
     "execution_count": 6,
     "metadata": {},
     "output_type": "execute_result"
    }
   ],
   "source": [
    "f(a[:1])"
   ]
  },
  {
   "cell_type": "code",
   "execution_count": 7,
   "id": "8ca5ad54",
   "metadata": {},
   "outputs": [
    {
     "data": {
      "text/plain": [
       "17"
      ]
     },
     "execution_count": 7,
     "metadata": {},
     "output_type": "execute_result"
    }
   ],
   "source": [
    "f(20)"
   ]
  },
  {
   "cell_type": "code",
   "execution_count": 8,
   "id": "95941acb",
   "metadata": {},
   "outputs": [
    {
     "data": {
      "text/plain": [
       "185"
      ]
     },
     "execution_count": 8,
     "metadata": {},
     "output_type": "execute_result"
    }
   ],
   "source": [
    "f(188)"
   ]
  },
  {
   "cell_type": "code",
   "execution_count": 11,
   "id": "a69d9687",
   "metadata": {},
   "outputs": [
    {
     "data": {
      "text/plain": [
       "f (generic function with 2 methods)"
      ]
     },
     "execution_count": 11,
     "metadata": {},
     "output_type": "execute_result"
    }
   ],
   "source": [
    "f(x,y) = x*2 + 3y\n",
    "# two methods in one function.if you are coming from a mathematical background ,its is Basic Calculus"
   ]
  },
  {
   "cell_type": "code",
   "execution_count": 12,
   "id": "cc9c6890",
   "metadata": {},
   "outputs": [
    {
     "data": {
      "text/plain": [
       "46"
      ]
     },
     "execution_count": 12,
     "metadata": {},
     "output_type": "execute_result"
    }
   ],
   "source": [
    "f(8,10)"
   ]
  },
  {
   "cell_type": "code",
   "execution_count": 13,
   "id": "a7167d81",
   "metadata": {},
   "outputs": [
    {
     "data": {
      "text/plain": [
       "multiply (generic function with 1 method)"
      ]
     },
     "execution_count": 13,
     "metadata": {},
     "output_type": "execute_result"
    }
   ],
   "source": [
    "# We can however create functions using the function keyword \n",
    " function multiply(val)\n",
    "    return val*2\n",
    "end"
   ]
  },
  {
   "cell_type": "code",
   "execution_count": 14,
   "id": "5c8ec7f6",
   "metadata": {},
   "outputs": [
    {
     "data": {
      "text/plain": [
       "4"
      ]
     },
     "execution_count": 14,
     "metadata": {},
     "output_type": "execute_result"
    }
   ],
   "source": [
    "multiply(2)"
   ]
  },
  {
   "cell_type": "code",
   "execution_count": 31,
   "id": "8681a970",
   "metadata": {},
   "outputs": [
    {
     "data": {
      "text/plain": [
       "odd (generic function with 1 method)"
      ]
     },
     "execution_count": 31,
     "metadata": {},
     "output_type": "execute_result"
    }
   ],
   "source": [
    "function odd(i)\n",
    "    for i in 1:10\n",
    "        if i% 2 ==  0\n",
    "            continue\n",
    "        else \n",
    "        println(i)\n",
    "        end\n",
    "    end\n",
    "end"
   ]
  },
  {
   "cell_type": "code",
   "execution_count": 30,
   "id": "05bf2af2",
   "metadata": {},
   "outputs": [
    {
     "name": "stdout",
     "output_type": "stream",
     "text": [
      "13579"
     ]
    }
   ],
   "source": [
    "odd(2)"
   ]
  },
  {
   "cell_type": "code",
   "execution_count": 42,
   "id": "87c5790b",
   "metadata": {},
   "outputs": [
    {
     "data": {
      "text/plain": [
       "convert_metres (generic function with 2 methods)"
      ]
     },
     "execution_count": 42,
     "metadata": {},
     "output_type": "execute_result"
    }
   ],
   "source": [
    "function convert_metres(val,name = \"Random\")\n",
    "    if name == \"Random\"\n",
    "        println(\"Value for name is not given\")\n",
    "    else \n",
    "        println(\"Hi...\",name,\"Your conversion is\")\n",
    "    end\n",
    "        return val*100\n",
    "end\n"
   ]
  },
  {
   "cell_type": "code",
   "execution_count": 43,
   "id": "03e4bb44",
   "metadata": {},
   "outputs": [
    {
     "name": "stdout",
     "output_type": "stream",
     "text": [
      "Value for name is not given\n"
     ]
    },
    {
     "data": {
      "text/plain": [
       "200"
      ]
     },
     "execution_count": 43,
     "metadata": {},
     "output_type": "execute_result"
    }
   ],
   "source": [
    "convert_metres(2)"
   ]
  },
  {
   "cell_type": "code",
   "execution_count": 44,
   "id": "828aee3e",
   "metadata": {},
   "outputs": [
    {
     "name": "stdout",
     "output_type": "stream",
     "text": [
      "Hi...AndrewYour conversion is\n"
     ]
    },
    {
     "data": {
      "text/plain": [
       "200"
      ]
     },
     "execution_count": 44,
     "metadata": {},
     "output_type": "execute_result"
    }
   ],
   "source": [
    "convert_metres(2,\"Andrew\")"
   ]
  },
  {
   "cell_type": "markdown",
   "id": "72442b9e",
   "metadata": {},
   "source": [
    "# Formatting Strings"
   ]
  },
  {
   "cell_type": "code",
   "execution_count": 1,
   "id": "ab26bfc8",
   "metadata": {},
   "outputs": [],
   "source": [
    "# Like C and C++ Julia has some inbuilt macros ,the Printf function\n",
    "using Printf\n"
   ]
  },
  {
   "cell_type": "code",
   "execution_count": 5,
   "id": "5fc31a2d",
   "metadata": {},
   "outputs": [],
   "source": [
    "name =\"Edgar Muyale\";\n",
    "value = 100.50;\n",
    "number = 100;"
   ]
  },
  {
   "cell_type": "code",
   "execution_count": 6,
   "id": "aabdd88f",
   "metadata": {},
   "outputs": [
    {
     "name": "stdout",
     "output_type": "stream",
     "text": [
      "Hello Edgar Muyale"
     ]
    }
   ],
   "source": [
    "@printf(\"Hello %s\",name)"
   ]
  },
  {
   "cell_type": "code",
   "execution_count": 11,
   "id": "35410a99",
   "metadata": {},
   "outputs": [
    {
     "name": "stdout",
     "output_type": "stream",
     "text": [
      "The value as a float is 100.500000"
     ]
    }
   ],
   "source": [
    "@printf(\"The value as a float is %f\",value)"
   ]
  },
  {
   "cell_type": "code",
   "execution_count": 12,
   "id": "c26fdf37",
   "metadata": {},
   "outputs": [
    {
     "name": "stdout",
     "output_type": "stream",
     "text": [
      "The scientific value is 1.005000e+02"
     ]
    }
   ],
   "source": [
    "@printf(\"The scientific value is %e\",value)"
   ]
  },
  {
   "cell_type": "code",
   "execution_count": 10,
   "id": "c83b5604",
   "metadata": {},
   "outputs": [
    {
     "name": "stdout",
     "output_type": "stream",
     "text": [
      "The number as an integer is 100"
     ]
    }
   ],
   "source": [
    "@printf(\"The number as an integer is %d\",number)"
   ]
  },
  {
   "cell_type": "code",
   "execution_count": 13,
   "id": "0963bb8e",
   "metadata": {},
   "outputs": [
    {
     "name": "stdout",
     "output_type": "stream",
     "text": [
      "The scientific value is 1.005e+02"
     ]
    }
   ],
   "source": [
    "@printf(\"The scientific value is %.3e\",value)"
   ]
  },
  {
   "cell_type": "markdown",
   "id": "72421943",
   "metadata": {},
   "source": [
    "Using printf we can decide what we want as an output with % d indicating integers,%s indicating a string,%c character,%e as  a \n",
    "scientific number"
   ]
  },
  {
   "cell_type": "markdown",
   "id": "42c5e414",
   "metadata": {},
   "source": [
    "# The End :Thank You"
   ]
  },
  {
   "cell_type": "code",
   "execution_count": null,
   "id": "110e92ec",
   "metadata": {},
   "outputs": [],
   "source": []
  },
  {
   "cell_type": "code",
   "execution_count": null,
   "id": "8324d9f6",
   "metadata": {},
   "outputs": [],
   "source": []
  }
 ],
 "metadata": {
  "kernelspec": {
   "display_name": "Julia 1.8.5",
   "language": "julia",
   "name": "julia-1.8"
  },
  "language_info": {
   "file_extension": ".jl",
   "mimetype": "application/julia",
   "name": "julia",
   "version": "1.8.5"
  }
 },
 "nbformat": 4,
 "nbformat_minor": 5
}
