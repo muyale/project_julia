{
 "cells": [
  {
   "cell_type": "markdown",
   "id": "7d420efd",
   "metadata": {},
   "source": [
    "For most programming languages ,control statements play a key role while iterating through data .This is an introductory program for those who intend to code in julia."
   ]
  },
  {
   "cell_type": "markdown",
   "id": "0eb41435",
   "metadata": {},
   "source": [
    "# CONDITIONAL STATEMENTS"
   ]
  },
  {
   "cell_type": "code",
   "execution_count": 1,
   "id": "48a2213d",
   "metadata": {},
   "outputs": [
    {
     "data": {
      "text/plain": [
       "100"
      ]
     },
     "execution_count": 1,
     "metadata": {},
     "output_type": "execute_result"
    }
   ],
   "source": [
    "# lets declare variables a  and b\n",
    "a= 20\n",
    "b= 10\n",
    "c= 100"
   ]
  },
  {
   "cell_type": "code",
   "execution_count": 2,
   "id": "cd8328af",
   "metadata": {},
   "outputs": [
    {
     "data": {
      "text/plain": [
       "\"Yes\""
      ]
     },
     "execution_count": 2,
     "metadata": {},
     "output_type": "execute_result"
    }
   ],
   "source": [
    "#using ternary operations to state conditions, : means or and || means or,while && means and \n",
    "\n",
    "a>10 ? \"Yes\" : \"No\""
   ]
  },
  {
   "cell_type": "code",
   "execution_count": 3,
   "id": "5540be56",
   "metadata": {},
   "outputs": [
    {
     "data": {
      "text/plain": [
       "\"No\""
      ]
     },
     "execution_count": 3,
     "metadata": {},
     "output_type": "execute_result"
    }
   ],
   "source": [
    "a>200 ? \"Yes\" : \"No\""
   ]
  },
  {
   "cell_type": "code",
   "execution_count": 4,
   "id": "939129e7",
   "metadata": {},
   "outputs": [
    {
     "data": {
      "text/plain": [
       "\"No\""
      ]
     },
     "execution_count": 4,
     "metadata": {},
     "output_type": "execute_result"
    }
   ],
   "source": [
    "b>20 ? \"Yes\" : \"No\""
   ]
  },
  {
   "cell_type": "code",
   "execution_count": 5,
   "id": "c869e214",
   "metadata": {},
   "outputs": [
    {
     "data": {
      "text/plain": [
       "true"
      ]
     },
     "execution_count": 5,
     "metadata": {},
     "output_type": "execute_result"
    }
   ],
   "source": [
    "a > 20 || b < 20 # as with all or statements ,the code is executed and returns  true if one of the statement is true"
   ]
  },
  {
   "cell_type": "code",
   "execution_count": 6,
   "id": "90f283e2",
   "metadata": {},
   "outputs": [
    {
     "data": {
      "text/plain": [
       "false"
      ]
     },
     "execution_count": 6,
     "metadata": {},
     "output_type": "execute_result"
    }
   ],
   "source": [
    "a > 20 && b> 20 # the and operator executes if both statements are otherwise it returns a false statement"
   ]
  },
  {
   "cell_type": "code",
   "execution_count": 7,
   "id": "778e150a",
   "metadata": {},
   "outputs": [
    {
     "name": "stdout",
     "output_type": "stream",
     "text": [
      "a is less than 100"
     ]
    }
   ],
   "source": [
    "# Ternary operators are a faster method compared to the if else statement ,and use lesser computing power.However the if statement is easier to write\n",
    "if a < 100\n",
    "    print(\"a is less than 100\")\n",
    "elseif a > 100 \n",
    "    print(\"a is less than 100\")\n",
    "else \n",
    "    print(\"the condition is less applicable\")\n",
    "end\n"
   ]
  },
  {
   "cell_type": "code",
   "execution_count": 8,
   "id": "be8ad8f4",
   "metadata": {},
   "outputs": [
    {
     "name": "stdout",
     "output_type": "stream",
     "text": [
      "Hello from Kenya"
     ]
    }
   ],
   "source": [
    "# string conditional operations are the same as that of python programming language\n",
    "country = \"Kenya\"\n",
    "if country == \"Kenya\"\n",
    "    print(\"Hello from \" *country)\n",
    "else \n",
    "    print(\"Please state your country of origin\")\n",
    "end"
   ]
  },
  {
   "cell_type": "markdown",
   "id": "0600307c",
   "metadata": {},
   "source": [
    "# LOOPS "
   ]
  },
  {
   "cell_type": "code",
   "execution_count": 9,
   "id": "13f38fc4",
   "metadata": {},
   "outputs": [
    {
     "name": "stdout",
     "output_type": "stream",
     "text": [
      "0.0\n",
      "0.1111111111111111\n",
      "0.2222222222222222\n",
      "0.3333333333333333\n",
      "0.4444444444444444\n",
      "0.5555555555555556\n",
      "0.6666666666666666\n",
      "0.7777777777777778\n",
      "0.8888888888888888\n",
      "1.0\n"
     ]
    }
   ],
   "source": [
    "# loops help in iterating through  data and make programming a bit easier,julia has for and while loops just like python\n",
    "for i in range(0,1,10)\n",
    "    println(i)\n",
    "end\n"
   ]
  },
  {
   "cell_type": "code",
   "execution_count": 10,
   "id": "d4e9db1e",
   "metadata": {},
   "outputs": [
    {
     "name": "stdout",
     "output_type": "stream",
     "text": [
      "1\n",
      "2\n",
      "3\n",
      "4\n",
      "5\n"
     ]
    }
   ],
   "source": [
    "# We can loop through tuples,sets ,dictionaries and even arrays\n",
    "array = [1,2,3,4,5]\n",
    "for i in array\n",
    "    println(i)\n",
    "end"
   ]
  },
  {
   "cell_type": "code",
   "execution_count": 11,
   "id": "c56750e8",
   "metadata": {},
   "outputs": [
    {
     "name": "stdout",
     "output_type": "stream",
     "text": [
      "Atomic habits\n",
      "Gifted Hands\n",
      "Give and Take\n",
      "The Originals\n"
     ]
    }
   ],
   "source": [
    "books = (\"Atomic habits\",\"Gifted Hands\",\"Give and Take\",\"The Originals\")\n",
    "for book in books\n",
    "    println(book)\n",
    "end"
   ]
  },
  {
   "cell_type": "code",
   "execution_count": 12,
   "id": "d36cbf4e",
   "metadata": {},
   "outputs": [
    {
     "data": {
      "text/plain": [
       "Dict{Symbol, Int64} with 3 entries:\n",
       "  :GiftedHands  => 800\n",
       "  :TheOriginals => 500\n",
       "  :Atomichabits => 1000"
      ]
     },
     "execution_count": 12,
     "metadata": {},
     "output_type": "execute_result"
    }
   ],
   "source": [
    "book_price = Dict(:Atomichabits=>1000,:GiftedHands=>800,:TheOriginals=>500)"
   ]
  },
  {
   "cell_type": "code",
   "execution_count": 13,
   "id": "438f8258",
   "metadata": {},
   "outputs": [
    {
     "name": "stdout",
     "output_type": "stream",
     "text": [
      ":GiftedHands => 800:TheOriginals => 500:Atomichabits => 1000"
     ]
    },
    {
     "data": {
      "text/plain": [
       "\"for i in book_price\\n    println(i)\\nend\""
      ]
     },
     "execution_count": 13,
     "metadata": {},
     "output_type": "execute_result"
    }
   ],
   "source": [
    "for i in book_price\n",
    "    print(i,\"\")\n",
    "end\n",
    "\"\"\"for i in book_price\n",
    "    println(i)\n",
    "end\"\"\""
   ]
  },
  {
   "cell_type": "code",
   "execution_count": 17,
   "id": "4e6cf956",
   "metadata": {},
   "outputs": [
    {
     "name": "stdout",
     "output_type": "stream",
     "text": [
      "1\n",
      "2\n",
      "3\n",
      "4\n",
      "5\n",
      "6\n",
      "7\n",
      "8\n",
      "9\n"
     ]
    }
   ],
   "source": [
    "a = 1\n",
    "while a<10\n",
    "    println(a)\n",
    "    a+=1\n",
    "end"
   ]
  },
  {
   "cell_type": "code",
   "execution_count": null,
   "id": "1122a806",
   "metadata": {},
   "outputs": [],
   "source": []
  },
  {
   "cell_type": "code",
   "execution_count": null,
   "id": "75026072",
   "metadata": {},
   "outputs": [],
   "source": []
  }
 ],
 "metadata": {
  "kernelspec": {
   "display_name": "Julia 1.8.5",
   "language": "julia",
   "name": "julia-1.8"
  },
  "language_info": {
   "file_extension": ".jl",
   "mimetype": "application/julia",
   "name": "julia",
   "version": "1.8.5"
  }
 },
 "nbformat": 4,
 "nbformat_minor": 5
}
