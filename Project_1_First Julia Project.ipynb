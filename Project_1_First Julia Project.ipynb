{
 "cells": [
  {
   "cell_type": "markdown",
   "id": "81b51329",
   "metadata": {},
   "source": [
    "# This is a project that studies productivity\n",
    "# This is my first Julia Project\n"
   ]
  },
  {
   "cell_type": "code",
   "execution_count": 41,
   "id": "7cd5b173",
   "metadata": {},
   "outputs": [
    {
     "data": {
      "text/plain": [
       "main (generic function with 1 method)"
      ]
     },
     "execution_count": 41,
     "metadata": {},
     "output_type": "execute_result"
    }
   ],
   "source": [
    "function main()\n",
    "## 1. Calibration\n",
    "aalpha = 0.25 # Elasticity of output w.r.t. capital\n",
    "bbeta = 0.80 # Discount factor\n",
    "# Productivity values\n",
    "vProductivity = [0.9792 0.9896 1.0000 1.0106 1.0212]\n",
    "# Transition matrix\n",
    "mTransition = [0.9006 0.0203 0.0000 0.0000 0.0000;\n",
    "0.0041 0.9806 0.0153 0.0000 0.0000;\n",
    "0.0000 0.0082 0.9837 0.0082 0.0000;\n",
    "0.0000 0.0000 0.0153 0.9806 0.0041;\n",
    "0.0000 0.0000 0.0000 0.0273 0.9727]\n",
    "# 2. Steady State\n",
    "capitalSteadyState = (aalpha*bbeta)^(1/(1-aalpha))\n",
    "outputSteadyState = capitalSteadyState^aalpha\n",
    "consumptionSteadyState = outputSteadyState-capitalSteadyState\n",
    "println(\"Output = \",outputSteadyState,\" Capital = \",capitalSteadyState,\" Consumption =\n",
    "\",consumptionSteadyState)\n",
    "# We generate the grid of capital\n",
    "vGridCapital = collect(0.5*capitalSteadyState:0.00001:1.5*capitalSteadyState)\n",
    "nGridCapital = length(vGridCapital)\n",
    "nGridProductivity = length(vProductivity)\n",
    "# 3. Required matrices and vectors\n",
    "mOutput = zeros(nGridCapital,nGridProductivity)\n",
    "mValueFunction = zeros(nGridCapital,nGridProductivity)\n",
    "mValueFunctionNew = zeros(nGridCapital,nGridProductivity)\n",
    "mPolicyFunction = zeros(nGridCapital,nGridProductivity)\n",
    "expectedValueFunction = zeros(nGridCapital,nGridProductivity)\n",
    "# 4. We pre-build output for each point in the grid\n",
    "mOutput = (vGridCapital.^aalpha)*vProductivity;\n",
    "# 5. Main iteration\n",
    "maxDifference = 10.0\n",
    "tolerance = 0.0000001\n",
    "iteration = 0\n",
    "while(maxDifference > tolerance)\n",
    "expectedValueFunction = mValueFunction*mTransition';\n",
    "for nProductivity in 1:nGridProductivity\n",
    "# We start from previous choice (monotonicity of policy function)\n",
    "gridCapitalNextPeriod = 1\n",
    "for nCapital in 1:nGridCapital\n",
    "valueHighSoFar = -1000.0\n",
    "capitalChoice = vGridCapital[1]\n",
    "for nCapitalNextPeriod in gridCapitalNextPeriod:nGridCapital\n",
    "consumption = mOutput[nCapital,nProductivity]-vGridCapital[\n",
    "nCapitalNextPeriod]\n",
    "valueProvisional = (1-bbeta)*log(consumption)+bbeta*\n",
    "expectedValueFunction[nCapitalNextPeriod,nProductivity]\n",
    "if (valueProvisional>valueHighSoFar)\n",
    "valueHighSoFar = valueProvisional\n",
    "capitalChoice = vGridCapital[nCapitalNextPeriod]\n",
    "gridCapitalNextPeriod = nCapitalNextPeriod\n",
    "else\n",
    "break # We break when we have achieved the max\n",
    "end\n",
    "end\n",
    "mValueFunctionNew[nCapital,nProductivity] = valueHighSoFar\n",
    "mPolicyFunction[nCapital,nProductivity] = capitalChoice\n",
    "end\n",
    "end\n",
    "maxDifference = maximum(abs.(mValueFunctionNew-mValueFunction))\n",
    "mValueFunction = mValueFunctionNew\n",
    "mValueFunctionNew = zeros(nGridCapital,nGridProductivity)\n",
    "iteration = iteration+1\n",
    "if mod(iteration,10)==0 || iteration == 1\n",
    "println(\" Iteration = \", iteration, \" Sup Diff = \", maxDifference)\n",
    "end\n",
    "end\n",
    "println(\" Iteration = \", iteration, \" Sup Diff = \", maxDifference)\n",
    "println(\" \")\n",
    "println(\" My check = \", mPolicyFunction[1000,3])\n",
    "println(\" My check = \", mValueFunction[1000,3])\n",
    "end"
   ]
  },
  {
   "cell_type": "code",
   "execution_count": 42,
   "id": "ac5f5020",
   "metadata": {},
   "outputs": [
    {
     "data": {
      "text/plain": [
       "@welcome (macro with 1 method)"
      ]
     },
     "execution_count": 42,
     "metadata": {},
     "output_type": "execute_result"
    }
   ],
   "source": [
    "macro welcome(name)\n",
    "    return print(\"Hello\" *name)\n",
    "end"
   ]
  },
  {
   "cell_type": "code",
   "execution_count": 45,
   "id": "2ed59e33",
   "metadata": {},
   "outputs": [
    {
     "name": "stdout",
     "output_type": "stream",
     "text": [
      "HelloEdgar"
     ]
    }
   ],
   "source": [
    "@welcome(\"Edgar\")"
   ]
  },
  {
   "cell_type": "code",
   "execution_count": 47,
   "id": "3a2d2128",
   "metadata": {},
   "outputs": [
    {
     "name": "stdout",
     "output_type": "stream",
     "text": [
      "Output = 0.5848035476425733 Capital = 0.11696070952851466 Consumption =\n",
      "0.4678428381140586\n",
      " Iteration = 1 Sup Diff = 0.17205285753420155\n",
      " Iteration = 10 Sup Diff = 0.021334144453895698\n",
      " Iteration = 20 Sup Diff = 0.00227569354000845\n",
      " Iteration = 30 Sup Diff = 0.0002438132148974148\n",
      " Iteration = 40 Sup Diff = 2.6085378615814392e-5\n",
      " Iteration = 50 Sup Diff = 2.7879095303440238e-6\n",
      " Iteration = 60 Sup Diff = 2.9890727315518006e-7\n",
      " Iteration = 65 Sup Diff = 9.789997479359158e-8\n",
      " \n",
      " My check = 0.10232035476425733\n",
      " My check = -0.7932871879073262\n"
     ]
    }
   ],
   "source": [
    "main()"
   ]
  },
  {
   "cell_type": "code",
   "execution_count": null,
   "id": "81e79ed8",
   "metadata": {},
   "outputs": [],
   "source": []
  }
 ],
 "metadata": {
  "kernelspec": {
   "display_name": "Julia 1.8.5",
   "language": "julia",
   "name": "julia-1.8"
  },
  "language_info": {
   "file_extension": ".jl",
   "mimetype": "application/julia",
   "name": "julia",
   "version": "1.8.5"
  }
 },
 "nbformat": 4,
 "nbformat_minor": 5
}
